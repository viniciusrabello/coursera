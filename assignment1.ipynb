{
  "cells": [
    {
      "cell_type": "markdown",
      "metadata": {
        "id": "15uqRGWwgmoi"
      },
      "source": [
        "<center>\n",
        "    <img src=\"https://cf-courses-data.s3.us.cloud-object-storage.appdomain.cloud/IBMDeveloperSkillsNetwork-DS0105EN-SkillsNetwork/labs/Module2/images/SN_web_lightmode.png\" width=\"300\" alt=\"cognitiveclass.ai logo\"  />\n",
        "</center>\n"
      ]
    },
    {
      "cell_type": "markdown",
      "metadata": {
        "id": "qxybAqPSgmo3"
      },
      "source": [
        "#### Add your code below following the instructions given in the course\n"
      ]
    },
    {
      "cell_type": "markdown",
      "source": [
        "# My Jupyter Notebook on IBM Watson Studio"
      ],
      "metadata": {
        "id": "UNpZPHOCgqdB"
      }
    },
    {
      "cell_type": "markdown",
      "source": [
        "**Vinícius Rabello Rodrigues**  \n",
        "Student"
      ],
      "metadata": {
        "id": "JyBepGrEgz5Z"
      }
    },
    {
      "cell_type": "markdown",
      "source": [
        "*I am interested in data science because it's the area that most suits my skillset.*"
      ],
      "metadata": {
        "id": "RHkXXeDygz0n"
      }
    },
    {
      "cell_type": "markdown",
      "source": [
        "### The next cell has code that prints the sentence 'Hello world'."
      ],
      "metadata": {
        "id": "9nbpzDO2iGlL"
      }
    },
    {
      "cell_type": "code",
      "execution_count": 1,
      "metadata": {
        "colab": {
          "base_uri": "https://localhost:8080/"
        },
        "id": "XJ997WWGgmo6",
        "outputId": "670c10de-4d19-4ad2-dfa3-68f5e8fe6c2d"
      },
      "outputs": [
        {
          "output_type": "stream",
          "name": "stdout",
          "text": [
            "Hello world.\n"
          ]
        }
      ],
      "source": [
        "print('Hello world.')"
      ]
    },
    {
      "cell_type": "markdown",
      "source": [
        "```python\n",
        "def f(x):\n",
        "  return x**2\n",
        "``` \n",
        "\n",
        "***\n",
        "\n",
        "~~Strikethrough~~"
      ],
      "metadata": {
        "id": "e9gKH9tWi7Lw"
      }
    },
    {
      "cell_type": "code",
      "source": [],
      "metadata": {
        "id": "NMQkfoiejhnO"
      },
      "execution_count": null,
      "outputs": []
    }
  ],
  "metadata": {
    "kernelspec": {
      "display_name": "Python 3",
      "language": "python",
      "name": "python3"
    },
    "language_info": {
      "codemirror_mode": {
        "name": "ipython",
        "version": 3
      },
      "file_extension": ".py",
      "mimetype": "text/x-python",
      "name": "python",
      "nbconvert_exporter": "python",
      "pygments_lexer": "ipython3",
      "version": "3.7.6"
    },
    "colab": {
      "provenance": []
    }
  },
  "nbformat": 4,
  "nbformat_minor": 0
}